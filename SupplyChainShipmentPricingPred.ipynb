{
 "cells": [
  {
   "attachments": {},
   "cell_type": "markdown",
   "metadata": {},
   "source": [
    "# Supply Chain Shipment Pricing Prediction"
   ]
  },
  {
   "attachments": {},
   "cell_type": "markdown",
   "metadata": {},
   "source": [
    "## Background\n",
    "In this study, analysis and pricing prediction is applied to supply chain shipment data. Models which will be explored during this analysis are listed and described below:\n",
    "\n",
    "| Algorithm                                | Definition                                                                                                       | Characteristic                                                                                    |\n",
    "|------------------------------------------|------------------------------------------------------------------------------------------------------------------|---------------------------------------------------------------------------------------------------|\n",
    "| Gradient boosted trees model (GBT Model) | Each tree is trained to predict and then \"correct\" for the errors of the previously trained trees                | A set of shallow decision trees trained sequentially.                                             |\n",
    "| Multiple linear regression (MLR)         | A statistical technique for estimating a predictive target utilizing a linear relationship between two or more predictive factors for one predictive target. | Predicts a dependent variable using multiple independent variables.                               |\n",
    "| Deep neural network (DNN)                | An artificial neural network consisting of many hidden layers between an input and output layer.                 | This algorithm can model complex nonlinear relationships, and it contains multiple hidden layers. |\n",
    "| XGBoost regression                       | Extreme gradient boosting acting as an improved algorithm based on the gradient boosting algorithm.              | Excellent efficiency, flexibility, and portability, and it can prevent overfitting.               |\n",
    "| LightGBM regression                      | Gradient boost-based algorithm that includes two techniques. (1) Gradient based on one-side sampling and (2) exclusive feature bundling. | An ensemble technique that utilizes a leaf-wise tree partitioning method.                         |"
   ]
  },
  {
   "attachments": {},
   "cell_type": "markdown",
   "metadata": {},
   "source": [
    "### Import Packages"
   ]
  },
  {
   "cell_type": "code",
   "execution_count": null,
   "metadata": {},
   "outputs": [],
   "source": [
    "import os\n",
    "import numpy as np\n",
    "import pandas as pd\n",
    "import pandas_bokeh\n",
    "import tensorflow as tf\n",
    "import tensorflow_decision_forests as tfdf\n",
    "import math"
   ]
  },
  {
   "cell_type": "code",
   "execution_count": null,
   "metadata": {},
   "outputs": [],
   "source": [
    "print(\"Found TensorFlow Decision Forests v\" + tfdf.__version__)"
   ]
  },
  {
   "attachments": {},
   "cell_type": "markdown",
   "metadata": {},
   "source": [
    "## Data Collection and Preprocessing"
   ]
  },
  {
   "attachments": {},
   "cell_type": "markdown",
   "metadata": {},
   "source": [
    "### Data Collection\n",
    "This data set provides supply chain health commodity shipment and pricing data. Specifically, the data set identifies Antiretroviral (ARV) and HIV lab shipments to supported countries. In addition, the data set provides the commodity pricing and associated supply chain expenses necessary to move the commodities to countries for use. The dataset has similar fields to the Global Fund's Price, Quality and Reporting (PQR) data. PEPFAR and the Global Fund represent the two largest procurers of HIV health commodities. This dataset, when analyzed in conjunction with the PQR data, provides a more complete picture of global spending on specific health commodities. The data are particularly valuable for understanding ranges and trends in pricing as well as volumes delivered by country. The US Government believes this data will help stakeholders make better, data-driven decisions. Care should be taken to consider contextual factors when using the database. Conclusions related to costs associated with moving specific line items or products to specific countries and lead times by product/country will not be accurate.\n"
   ]
  },
  {
   "cell_type": "code",
   "execution_count": null,
   "metadata": {},
   "outputs": [],
   "source": [
    "# Load the data set into Pandas DataFrame\n",
    "dataset_df = pd.read_csv(\"Supply_Chain_Shipment_Pricing_Data.csv\")\n",
    "\n",
    "dataset_df.tail()"
   ]
  },
  {
   "attachments": {},
   "cell_type": "markdown",
   "metadata": {},
   "source": [
    "### Data Preprocessing"
   ]
  },
  {
   "cell_type": "code",
   "execution_count": null,
   "metadata": {},
   "outputs": [],
   "source": [
    "dataset_df_reduced = dataset_df.copy()\n",
    "\n",
    "dataset_df_reduced['weight (kilograms)'] = pd.to_numeric(dataset_df_reduced['weight (kilograms)'], errors = 'coerce')\n",
    "dataset_df_reduced.dropna(inplace = True)\n",
    "\n",
    "dataset_df_reduced['freight cost (usd)'] = pd.to_numeric(dataset_df_reduced['freight cost (usd)'], errors = 'coerce')\n",
    "dataset_df_reduced.dropna(inplace = True)"
   ]
  },
  {
   "cell_type": "code",
   "execution_count": null,
   "metadata": {},
   "outputs": [],
   "source": [
    "# Explore country count data.\n",
    "CountryCount_raw = dataset_df['country'].value_counts().nlargest(50)\n",
    "CountryCount_reduced = dataset_df_reduced['country'].value_counts().nlargest(50)\n"
   ]
  },
  {
   "cell_type": "code",
   "execution_count": null,
   "metadata": {},
   "outputs": [],
   "source": [
    "dataset_df_reduced.plot_bokeh.bar(x=\"country\", y=\"freight cost (usd)\")"
   ]
  },
  {
   "attachments": {},
   "cell_type": "markdown",
   "metadata": {},
   "source": [
    "Country count values are represented greatly by South Africa, Nigeria, and Côte d'Ivoire with values over 1000."
   ]
  },
  {
   "cell_type": "code",
   "execution_count": null,
   "metadata": {},
   "outputs": [],
   "source": [
    "# Describe numerical values before removal section\n",
    "dataset_df.describe()"
   ]
  },
  {
   "cell_type": "code",
   "execution_count": null,
   "metadata": {},
   "outputs": [],
   "source": [
    "# Describe manufacturing origin.\n",
    "ManLocs_raw = dataset_df.groupby('manufacturing site').size().nlargest(5)\n",
    "ManLocs_reduced = dataset_df_reduced.groupby('manufacturing site').size().nlargest(5)"
   ]
  }
 ],
 "metadata": {
  "kernelspec": {
   "display_name": "tensorflow-metal",
   "language": "python",
   "name": "python3"
  },
  "language_info": {
   "codemirror_mode": {
    "name": "ipython",
    "version": 3
   },
   "file_extension": ".py",
   "mimetype": "text/x-python",
   "name": "python",
   "nbconvert_exporter": "python",
   "pygments_lexer": "ipython3",
   "version": "3.10.11"
  },
  "orig_nbformat": 4
 },
 "nbformat": 4,
 "nbformat_minor": 2
}
